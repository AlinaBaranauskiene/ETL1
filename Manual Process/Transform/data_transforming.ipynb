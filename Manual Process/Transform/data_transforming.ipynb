{
 "cells": [
  {
   "cell_type": "code",
   "execution_count": 1,
   "id": "dd34160d",
   "metadata": {},
   "outputs": [
    {
     "name": "stdout",
     "output_type": "stream",
     "text": [
      "Requirement already satisfied: pandas in c:\\users\\alina.baranauskiene\\appdata\\local\\programs\\python\\python313\\lib\\site-packages (2.2.3)\n",
      "Requirement already satisfied: sqlalchemy in c:\\users\\alina.baranauskiene\\appdata\\local\\programs\\python\\python313\\lib\\site-packages (2.0.41)\n",
      "Requirement already satisfied: pymysql in c:\\users\\alina.baranauskiene\\appdata\\local\\programs\\python\\python313\\lib\\site-packages (1.1.1)\n",
      "Requirement already satisfied: numpy>=1.26.0 in c:\\users\\alina.baranauskiene\\appdata\\local\\programs\\python\\python313\\lib\\site-packages (from pandas) (2.2.5)\n",
      "Requirement already satisfied: python-dateutil>=2.8.2 in c:\\users\\alina.baranauskiene\\appdata\\roaming\\python\\python313\\site-packages (from pandas) (2.9.0.post0)\n",
      "Requirement already satisfied: pytz>=2020.1 in c:\\users\\alina.baranauskiene\\appdata\\local\\programs\\python\\python313\\lib\\site-packages (from pandas) (2025.2)\n",
      "Requirement already satisfied: tzdata>=2022.7 in c:\\users\\alina.baranauskiene\\appdata\\local\\programs\\python\\python313\\lib\\site-packages (from pandas) (2025.2)\n",
      "Requirement already satisfied: greenlet>=1 in c:\\users\\alina.baranauskiene\\appdata\\local\\programs\\python\\python313\\lib\\site-packages (from sqlalchemy) (3.2.2)\n",
      "Requirement already satisfied: typing-extensions>=4.6.0 in c:\\users\\alina.baranauskiene\\appdata\\local\\programs\\python\\python313\\lib\\site-packages (from sqlalchemy) (4.13.2)\n",
      "Requirement already satisfied: six>=1.5 in c:\\users\\alina.baranauskiene\\appdata\\roaming\\python\\python313\\site-packages (from python-dateutil>=2.8.2->pandas) (1.17.0)\n",
      "Note: you may need to restart the kernel to use updated packages.\n"
     ]
    },
    {
     "name": "stderr",
     "output_type": "stream",
     "text": [
      "\n",
      "[notice] A new release of pip is available: 25.0 -> 25.1.1\n",
      "[notice] To update, run: python.exe -m pip install --upgrade pip\n"
     ]
    }
   ],
   "source": [
    "pip install pandas sqlalchemy pymysql"
   ]
  },
  {
   "cell_type": "code",
   "execution_count": null,
   "id": "cc211159",
   "metadata": {},
   "outputs": [
    {
     "data": {
      "text/plain": [
       "6473623"
      ]
     },
     "execution_count": 2,
     "metadata": {},
     "output_type": "execute_result"
    }
   ],
   "source": [
    "import pandas as pd\n",
    "from sqlalchemy import create_engine, text\n",
    "\n",
    "\n",
    "user = 'root'\n",
    "password = '<password>'\n",
    "host = 'localhost'\n",
    "port = 3306\n",
    "database = 'raw_data'\n",
    "\n",
    "# Create connection to MySQL\n",
    "engine = create_engine(f'mysql+pymysql://{user}:{password}@{host}:{port}/{database}')\n",
    "\n",
    "# Read required columns\n",
    "query = \"\"\"\n",
    "SELECT item, provided_name, qt, city, address, shop, date, paid\n",
    "FROM duomenys.total_data\n",
    "\"\"\"\n",
    "df = pd.read_sql(query, engine)\n",
    "\n",
    "# Write DataFrame to new table in another schema\n",
    "target_schema = 'transformed_data'\n",
    "target_table = 'duomenys_1'\n",
    "\n",
    "# Create another engine pointing to the target schema\n",
    "target_engine = create_engine(f'mysql+pymysql://{user}:{password}@{host}:{port}/{target_schema}')\n",
    "\n",
    "# Write the table.\n",
    "df.to_sql(target_table, con=target_engine, index=False, if_exists='replace')"
   ]
  },
  {
   "cell_type": "code",
   "execution_count": null,
   "id": "73c49e5e",
   "metadata": {},
   "outputs": [
    {
     "name": "stdout",
     "output_type": "stream",
     "text": [
      "✅ Column 'preke' added.\n",
      "✅ Column 'preke' updated where item matched.\n"
     ]
    }
   ],
   "source": [
    "from sqlalchemy import create_engine, text\n",
    "\n",
    "\n",
    "user = 'root'\n",
    "password = '<password>'\n",
    "host = 'localhost'\n",
    "port = 3306\n",
    "schema = 'transformed_data'\n",
    "\n",
    "\n",
    "engine = create_engine(f\"mysql+pymysql://{user}:{password}@{host}:{port}/{schema}\")\n",
    "\n",
    "\n",
    "item_values = [\n",
    "    \"1\", \"2\", \"3\", \"000000000003\", \"000000000004\", \"4\", \"5\", \"6\", \n",
    "    \"000000000008\", \"8\", \"000000000013\", \"000000000015\", \"16\",\n",
    "    \"f_1\", \"f_2\", \"f_3\", \"f_4\", \"f_5\"\n",
    "]\n",
    "formatted_values = \",\".join(f\"'{v}'\" for v in item_values)\n",
    "\n",
    "\n",
    "check_column_sql = \"\"\"\n",
    "SELECT COUNT(*) FROM INFORMATION_SCHEMA.COLUMNS\n",
    "WHERE TABLE_NAME = 'duomenys_1' AND COLUMN_NAME = 'preke' AND TABLE_SCHEMA = :schema;\n",
    "\"\"\"\n",
    "\n",
    "add_column_sql = \"\"\"\n",
    "ALTER TABLE duomenys_1\n",
    "ADD COLUMN preke text;\n",
    "\"\"\"\n",
    "\n",
    "update_sql = f\"\"\"\n",
    "UPDATE duomenys_1\n",
    "SET preke = 'main product'\n",
    "WHERE item IN ({formatted_values});\n",
    "\"\"\"\n",
    "\n",
    "\n",
    "with engine.begin() as conn:\n",
    "    result = conn.execute(text(check_column_sql), {\"schema\": schema})\n",
    "    column_exists = result.scalar() > 0\n",
    "\n",
    "    if not column_exists:\n",
    "        conn.execute(text(add_column_sql))\n",
    "        print(\"✅ Column 'preke' added.\")\n",
    "    else:\n",
    "        print(\"ℹ️ Column 'preke' already exists.\")\n",
    "\n",
    "    conn.execute(text(update_sql))\n",
    "    print(\"✅ Column 'preke' updated where item matched.\")"
   ]
  },
  {
   "cell_type": "code",
   "execution_count": null,
   "id": "da68d3e4",
   "metadata": {},
   "outputs": [
    {
     "name": "stdout",
     "output_type": "stream",
     "text": [
      "✅ Column 'metai_menuo' added and populated.\n"
     ]
    }
   ],
   "source": [
    "from sqlalchemy import create_engine, text\n",
    "\n",
    "\n",
    "user = 'root'\n",
    "password = '<password>'\n",
    "host = 'localhost'\n",
    "port = 3306\n",
    "schema = 'transformed_data'\n",
    "\n",
    "# Create engine\n",
    "engine = create_engine(f\"mysql+pymysql://{user}:{password}@{host}:{port}/{schema}\")\n",
    "\n",
    "with engine.begin() as conn:\n",
    "    # Check if the column exists\n",
    "    result = conn.execute(text(\"\"\"\n",
    "        SHOW COLUMNS FROM duomenys_1 LIKE 'metai_menuo';\n",
    "    \"\"\"))\n",
    "    if result.first() is None:\n",
    "        # Add the column since it doesn't exist\n",
    "        conn.execute(text(\"\"\"\n",
    "            ALTER TABLE duomenys_1\n",
    "            ADD COLUMN metai_menuo VARCHAR(7);\n",
    "        \"\"\"))\n",
    "\n",
    "    # Update the new column with YYYY-MM extracted from the datetime column\n",
    "    conn.execute(text(\"\"\"\n",
    "        UPDATE duomenys_1\n",
    "        SET metai_menuo = LEFT(DATE_FORMAT(date, '%Y-%m-%d'), 7);\n",
    "    \"\"\"))\n",
    "\n",
    "    print(\"✅ Column 'metai_menuo' added and populated.\")"
   ]
  },
  {
   "cell_type": "code",
   "execution_count": null,
   "id": "e14914dc",
   "metadata": {},
   "outputs": [
    {
     "name": "stdout",
     "output_type": "stream",
     "text": [
      "Column 'qt' successfully converted to FLOAT.\n"
     ]
    }
   ],
   "source": [
    "import mysql.connector\n",
    "\n",
    "\n",
    "conn = mysql.connector.connect(\n",
    "    host=\"localhost\",\n",
    "    user=\"root\",\n",
    "    password=\"<password>\",\n",
    "    database=\"transformed_data\"\n",
    ")\n",
    "\n",
    "cursor = conn.cursor()\n",
    "\n",
    "\n",
    "\n",
    "try:\n",
    "    cursor.execute(\"ALTER TABLE duomenys_1 MODIFY COLUMN qt FLOAT\")\n",
    "    print(\"Column 'qt' successfully converted to FLOAT.\")\n",
    "except mysql.connector.Error as err:\n",
    "    print(f\"Error: {err}\")\n",
    "\n",
    "\n",
    "conn.commit()\n",
    "cursor.close()\n",
    "conn.close()"
   ]
  },
  {
   "cell_type": "code",
   "execution_count": null,
   "id": "1126eb49",
   "metadata": {},
   "outputs": [
    {
     "name": "stdout",
     "output_type": "stream",
     "text": [
      "Column 'paid' successfully converted to FLOAT.\n"
     ]
    }
   ],
   "source": [
    "import mysql.connector\n",
    "\n",
    "\n",
    "conn = mysql.connector.connect(\n",
    "    host=\"localhost\",\n",
    "    user=\"root\",\n",
    "    password=\"<password>\",\n",
    "    database=\"transformed_data\"\n",
    ")\n",
    "\n",
    "cursor = conn.cursor()\n",
    "\n",
    "\n",
    "try:\n",
    "    cursor.execute(\"ALTER TABLE duomenys_1 MODIFY COLUMN paid FLOAT\")\n",
    "    print(\"Column 'paid' successfully converted to FLOAT.\")\n",
    "except mysql.connector.Error as err:\n",
    "    print(f\"Error: {err}\")\n",
    "\n",
    "\n",
    "conn.commit()\n",
    "cursor.close()\n",
    "conn.close()"
   ]
  },
  {
   "cell_type": "code",
   "execution_count": null,
   "id": "2783eee5",
   "metadata": {},
   "outputs": [
    {
     "name": "stdout",
     "output_type": "stream",
     "text": [
      "✅ Column 'preke' updated where item matched.\n"
     ]
    }
   ],
   "source": [
    "from sqlalchemy import create_engine, text\n",
    "\n",
    "\n",
    "user = 'root'\n",
    "password = '<password>'\n",
    "host = 'localhost'\n",
    "port = 3306\n",
    "schema = 'transformed_data'\n",
    "\n",
    "\n",
    "engine = create_engine(f\"mysql+pymysql://{user}:{password}@{host}:{port}/{schema}\")\n",
    "\n",
    "\n",
    "item_values = [\n",
    "    \"1\", \"2\", \"3\", \"000000000003\", \"000000000004\", \"4\", \"5\", \"6\", \n",
    "    \"000000000008\", \"8\", \"000000000013\", \"000000000015\", \"16\",\n",
    "    \"f_1\", \"f_2\", \"f_3\", \"f_4\", \"f_5\"\n",
    "]\n",
    "formatted_values = \",\".join(f\"'{v}'\" for v in item_values)\n",
    "\n",
    "\n",
    "update_sql = f\"\"\"\n",
    "UPDATE duomenys_1\n",
    "SET preke = 'other products'\n",
    "WHERE item NOT IN ({formatted_values});\n",
    "\"\"\"\n",
    "\n",
    "\n",
    "with engine.begin() as conn:\n",
    "    conn.execute(text(update_sql))\n",
    "    print(\"✅ Column 'preke' updated where item matched.\")"
   ]
  },
  {
   "cell_type": "code",
   "execution_count": null,
   "id": "2b344d30",
   "metadata": {},
   "outputs": [
    {
     "name": "stdout",
     "output_type": "stream",
     "text": [
      "✅ Column 'pardavejas' added.\n",
      "✅ Column 'pardavejas' created\n"
     ]
    }
   ],
   "source": [
    "from sqlalchemy import create_engine, text\n",
    "\n",
    "\n",
    "user = 'root'\n",
    "password = '<password>'\n",
    "host = 'localhost'\n",
    "port = 3306\n",
    "schema = 'transformed_data'\n",
    "\n",
    "\n",
    "engine = create_engine(f\"mysql+pymysql://{user}:{password}@{host}:{port}/{schema}\")\n",
    "\n",
    "\n",
    "item_values = [\n",
    "<items>\n",
    "]\n",
    "formatted_values = \",\".join(f\"'{v}'\" for v in item_values)\n",
    "\n",
    "\n",
    "check_column_sql = \"\"\"\n",
    "SELECT COUNT(*) FROM INFORMATION_SCHEMA.COLUMNS\n",
    "WHERE TABLE_NAME = 'duomenys_1' AND COLUMN_NAME = 'pardavejas' AND TABLE_SCHEMA = :schema;\n",
    "\"\"\"\n",
    "\n",
    "add_column_sql = \"\"\"\n",
    "ALTER TABLE duomenys_1\n",
    "ADD COLUMN pardavejas text;\n",
    "\"\"\"\n",
    "\n",
    "update_sql = f\"\"\"\n",
    "UPDATE duomenys_1\n",
    "SET pardavejas = 'main seller'\n",
    "WHERE shop IN ({formatted_values});\n",
    "\"\"\"\n",
    "\n",
    "update_sql_1 = f\"\"\"\n",
    "UPDATE duomenys_1\n",
    "SET pardavejas = 'partner'\n",
    "WHERE shop NOT IN ({formatted_values});\n",
    "\"\"\"\n",
    "\n",
    "\n",
    "with engine.begin() as conn:\n",
    "    result = conn.execute(text(check_column_sql), {\"schema\": schema})\n",
    "    column_exists = result.scalar() > 0\n",
    "\n",
    "    if not column_exists:\n",
    "        conn.execute(text(add_column_sql))\n",
    "        print(\"✅ Column 'pardavejas' added.\")\n",
    "    else:\n",
    "        print(\"ℹ️ Column 'pardavejas' already exists.\")\n",
    "\n",
    "    conn.execute(text(update_sql))\n",
    "    conn.execute(text(update_sql_1))\n",
    "    print(\"✅ Column 'pardavejas' created\")"
   ]
  },
  {
   "cell_type": "code",
   "execution_count": null,
   "id": "87e3057b",
   "metadata": {},
   "outputs": [
    {
     "name": "stdout",
     "output_type": "stream",
     "text": [
      "✅ Column 'metai' added and populated.\n"
     ]
    }
   ],
   "source": [
    "from sqlalchemy import create_engine, text\n",
    "\n",
    "\n",
    "user = 'root'\n",
    "password = '<password>'\n",
    "host = 'localhost'\n",
    "port = 3306\n",
    "schema = 'transformed_data'\n",
    "\n",
    "\n",
    "engine = create_engine(f\"mysql+pymysql://{user}:{password}@{host}:{port}/{schema}\")\n",
    "\n",
    "with engine.begin() as conn:\n",
    "   \n",
    "    result = conn.execute(text(\"\"\"\n",
    "        SHOW COLUMNS FROM duomenys_1 LIKE 'metai';\n",
    "    \"\"\"))\n",
    "    if result.first() is None:\n",
    "      \n",
    "        conn.execute(text(\"\"\"\n",
    "            ALTER TABLE duomenys_1\n",
    "            ADD COLUMN metai VARCHAR(4);\n",
    "        \"\"\"))\n",
    "\n",
    "    \n",
    "    conn.execute(text(\"\"\"\n",
    "        UPDATE duomenys_1\n",
    "        SET metai = LEFT(DATE_FORMAT(date, '%Y-%m-%d'), 4);\n",
    "    \"\"\"))\n",
    "\n",
    "    print(\"✅ Column 'metai' added and populated.\")"
   ]
  },
  {
   "cell_type": "code",
   "execution_count": null,
   "id": "3bcfdf96",
   "metadata": {},
   "outputs": [
    {
     "name": "stdout",
     "output_type": "stream",
     "text": [
      "✅ Column 'month' added and populated.\n"
     ]
    }
   ],
   "source": [
    "from sqlalchemy import create_engine, text\n",
    "\n",
    "\n",
    "user = 'root'\n",
    "password = '<password>'\n",
    "host = 'localhost'\n",
    "port = 3306\n",
    "schema = 'transformed_data'\n",
    "\n",
    "\n",
    "engine = create_engine(f\"mysql+pymysql://{user}:{password}@{host}:{port}/{schema}\")\n",
    "\n",
    "with engine.begin() as conn:\n",
    "   \n",
    "    result = conn.execute(text(\"\"\"\n",
    "        SHOW COLUMNS FROM duomenys_1 LIKE 'month';\n",
    "    \"\"\"))\n",
    "    if result.first() is None:\n",
    "        \n",
    "        conn.execute(text(\"\"\"\n",
    "            ALTER TABLE duomenys_1\n",
    "            ADD COLUMN month VARCHAR(2);\n",
    "        \"\"\"))\n",
    "\n",
    "    \n",
    "    conn.execute(text(\"\"\"\n",
    "        UPDATE duomenys_1\n",
    "        SET month = DATE_FORMAT(date, '%m');\n",
    "    \"\"\"))\n",
    "\n",
    "    print(\"✅ Column 'month' added and populated.\")"
   ]
  },
  {
   "cell_type": "code",
   "execution_count": null,
   "id": "b8614c24",
   "metadata": {},
   "outputs": [
    {
     "name": "stdout",
     "output_type": "stream",
     "text": [
      "✅ Column 'date_1' added and populated.\n"
     ]
    }
   ],
   "source": [
    "from sqlalchemy import create_engine, text\n",
    "\n",
    "\n",
    "user = 'root'\n",
    "password = '<password>'\n",
    "host = 'localhost'\n",
    "port = 3306\n",
    "schema = 'transformed_data'\n",
    "\n",
    "\n",
    "engine = create_engine(f\"mysql+pymysql://{user}:{password}@{host}:{port}/{schema}\")\n",
    "\n",
    "with engine.begin() as conn:\n",
    "   \n",
    "    result = conn.execute(text(\"\"\"\n",
    "        SHOW COLUMNS FROM duomenys_1 LIKE 'date_1';\n",
    "    \"\"\"))\n",
    "    if result.first() is None:\n",
    "       \n",
    "        conn.execute(text(\"\"\"\n",
    "            ALTER TABLE duomenys_1\n",
    "            ADD COLUMN date_1 DATETIME;\n",
    "        \"\"\"))\n",
    "\n",
    "    \n",
    "    conn.execute(text(\"\"\"\n",
    "        UPDATE duomenys_1\n",
    "        SET date_1 = DATE(`date`);\n",
    "    \"\"\"))\n",
    "\n",
    "    print(\"✅ Column 'date_1' added and populated.\")"
   ]
  }
 ],
 "metadata": {
  "kernelspec": {
   "display_name": "Python 3",
   "language": "python",
   "name": "python3"
  },
  "language_info": {
   "codemirror_mode": {
    "name": "ipython",
    "version": 3
   },
   "file_extension": ".py",
   "mimetype": "text/x-python",
   "name": "python",
   "nbconvert_exporter": "python",
   "pygments_lexer": "ipython3",
   "version": "3.13.2"
  }
 },
 "nbformat": 4,
 "nbformat_minor": 5
}
