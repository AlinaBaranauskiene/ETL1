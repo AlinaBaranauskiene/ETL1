{
 "cells": [
  {
   "cell_type": "code",
   "execution_count": null,
   "id": "51144370",
   "metadata": {},
   "outputs": [
    {
     "name": "stdout",
     "output_type": "stream",
     "text": [
      "✅ Date table successfully written to database.\n"
     ]
    },
    {
     "name": "stderr",
     "output_type": "stream",
     "text": [
      "C:\\Users\\Alina.Baranauskiene\\AppData\\Local\\Temp\\ipykernel_38512\\1485676024.py:37: UserWarning: The provided table name 'DateTable' is not found exactly as such in the database after writing the table, possibly due to case sensitivity issues. Consider using lower case table names.\n",
      "  date_df.to_sql('DateTable', con=engine, if_exists='replace', index=False)\n"
     ]
    }
   ],
   "source": [
    "import pandas as pd\n",
    "from datetime import datetime, timedelta\n",
    "from sqlalchemy import create_engine\n",
    "\n",
    "\n",
    "start_date = datetime(2022, 1, 1)\n",
    "end_date = datetime(2030, 12, 31)\n",
    "\n",
    "\n",
    "date_range = pd.date_range(start=start_date, end=end_date, freq='D')\n",
    "date_df = pd.DataFrame({'Date': date_range})\n",
    "\n",
    "\n",
    "date_df['Year'] = date_df['Date'].dt.year\n",
    "date_df['Month'] = date_df['Date'].dt.month\n",
    "date_df['MonthName'] = date_df['Date'].dt.strftime('%B')\n",
    "date_df['Day'] = date_df['Date'].dt.day\n",
    "date_df['Week'] = date_df['Date'].dt.isocalendar().week\n",
    "date_df['Quarter'] = date_df['Date'].dt.quarter\n",
    "date_df['DayOfWeek'] = date_df['Date'].dt.dayofweek\n",
    "date_df['DayName'] = date_df['Date'].dt.day_name()\n",
    "date_df['IsWeekend'] = date_df['DayOfWeek'] >= 5\n",
    "\n",
    "\n",
    "username = \"root\"\n",
    "password = \"<password>\"\n",
    "host = \"localhost\"\n",
    "port = \"3306\"            \n",
    "database = \"transformed_data\"\n",
    "\n",
    "conn_str = f\"mysql+pymysql://{username}:{password}@{host}:{port}/{database}\"\n",
    "engine = create_engine(conn_str)\n",
    "\n",
    "\n",
    "date_df.to_sql('DateTable', con=engine, if_exists='replace', index=False)\n",
    "\n",
    "print(\"✅ Date table successfully written to database.\")"
   ]
  }
 ],
 "metadata": {
  "kernelspec": {
   "display_name": "Python 3",
   "language": "python",
   "name": "python3"
  },
  "language_info": {
   "codemirror_mode": {
    "name": "ipython",
    "version": 3
   },
   "file_extension": ".py",
   "mimetype": "text/x-python",
   "name": "python",
   "nbconvert_exporter": "python",
   "pygments_lexer": "ipython3",
   "version": "3.13.2"
  }
 },
 "nbformat": 4,
 "nbformat_minor": 5
}
